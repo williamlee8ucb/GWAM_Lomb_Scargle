{
 "cells": [
  {
   "cell_type": "code",
   "execution_count": 41,
   "id": "fcb33cd2",
   "metadata": {},
   "outputs": [],
   "source": [
    "import numpy \n",
    "import scipy.optimize as sp\n",
    "from astropy.timeseries import LombScargle\n",
    "import matplotlib.pyplot as plt\n",
    "import pandas as pd\n",
    "from astropy.time import Time\n",
    "import astropy.units as u"
   ]
  },
  {
   "cell_type": "code",
   "execution_count": 3,
   "id": "746b0732",
   "metadata": {},
   "outputs": [
    {
     "data": {
      "text/html": [
       "<div>\n",
       "<style scoped>\n",
       "    .dataframe tbody tr th:only-of-type {\n",
       "        vertical-align: middle;\n",
       "    }\n",
       "\n",
       "    .dataframe tbody tr th {\n",
       "        vertical-align: top;\n",
       "    }\n",
       "\n",
       "    .dataframe thead th {\n",
       "        text-align: right;\n",
       "    }\n",
       "</style>\n",
       "<table border=\"1\" class=\"dataframe\">\n",
       "  <thead>\n",
       "    <tr style=\"text-align: right;\">\n",
       "      <th></th>\n",
       "      <th>Cadence (Burst)</th>\n",
       "      <th>JD_UTC</th>\n",
       "      <th>av_rel_flux T1</th>\n",
       "      <th>av_rel_flux C2</th>\n",
       "      <th>av_rel_flux C3</th>\n",
       "      <th>av_rel_flux C4</th>\n",
       "      <th>av_rel_flux C5</th>\n",
       "      <th>std_T1</th>\n",
       "      <th>std_C2</th>\n",
       "      <th>std_C3</th>\n",
       "      <th>std_C4</th>\n",
       "      <th>std_C5</th>\n",
       "      <th>CoV T1</th>\n",
       "      <th>CoV C2</th>\n",
       "      <th>CoV C3</th>\n",
       "      <th>CoV C4</th>\n",
       "      <th>CoV C5</th>\n",
       "    </tr>\n",
       "  </thead>\n",
       "  <tbody>\n",
       "    <tr>\n",
       "      <th>0</th>\n",
       "      <td>9-1</td>\n",
       "      <td>2458634.522</td>\n",
       "      <td>0.456628</td>\n",
       "      <td>0.233339</td>\n",
       "      <td>0.339823</td>\n",
       "      <td>0.326439</td>\n",
       "      <td>0.451546</td>\n",
       "      <td>0.002471</td>\n",
       "      <td>0.000887</td>\n",
       "      <td>0.002142</td>\n",
       "      <td>0.002114</td>\n",
       "      <td>0.002726</td>\n",
       "      <td>0.54115</td>\n",
       "      <td>0.37997</td>\n",
       "      <td>0.63035</td>\n",
       "      <td>0.64751</td>\n",
       "      <td>0.60380</td>\n",
       "    </tr>\n",
       "    <tr>\n",
       "      <th>1</th>\n",
       "      <td>1-2</td>\n",
       "      <td>2458577.078</td>\n",
       "      <td>0.450170</td>\n",
       "      <td>0.228931</td>\n",
       "      <td>0.339605</td>\n",
       "      <td>0.335194</td>\n",
       "      <td>0.447539</td>\n",
       "      <td>0.002006</td>\n",
       "      <td>0.001622</td>\n",
       "      <td>0.002960</td>\n",
       "      <td>0.003196</td>\n",
       "      <td>0.003580</td>\n",
       "      <td>0.44550</td>\n",
       "      <td>0.70851</td>\n",
       "      <td>0.87161</td>\n",
       "      <td>0.95335</td>\n",
       "      <td>0.80001</td>\n",
       "    </tr>\n",
       "    <tr>\n",
       "      <th>2</th>\n",
       "      <td>1-3</td>\n",
       "      <td>2458578.134</td>\n",
       "      <td>0.450683</td>\n",
       "      <td>0.228680</td>\n",
       "      <td>0.340786</td>\n",
       "      <td>0.331198</td>\n",
       "      <td>0.451231</td>\n",
       "      <td>0.003543</td>\n",
       "      <td>0.001859</td>\n",
       "      <td>0.002193</td>\n",
       "      <td>0.002973</td>\n",
       "      <td>0.004438</td>\n",
       "      <td>0.78622</td>\n",
       "      <td>0.81300</td>\n",
       "      <td>0.64345</td>\n",
       "      <td>0.89761</td>\n",
       "      <td>0.98360</td>\n",
       "    </tr>\n",
       "    <tr>\n",
       "      <th>3</th>\n",
       "      <td>1-4</td>\n",
       "      <td>2458579.073</td>\n",
       "      <td>0.443331</td>\n",
       "      <td>0.227401</td>\n",
       "      <td>0.341038</td>\n",
       "      <td>0.337236</td>\n",
       "      <td>0.445611</td>\n",
       "      <td>0.002052</td>\n",
       "      <td>0.001855</td>\n",
       "      <td>0.004357</td>\n",
       "      <td>0.002738</td>\n",
       "      <td>0.004142</td>\n",
       "      <td>0.46282</td>\n",
       "      <td>0.81586</td>\n",
       "      <td>1.27755</td>\n",
       "      <td>0.81188</td>\n",
       "      <td>0.92961</td>\n",
       "    </tr>\n",
       "    <tr>\n",
       "      <th>4</th>\n",
       "      <td>1-5</td>\n",
       "      <td>2458580.129</td>\n",
       "      <td>0.455698</td>\n",
       "      <td>0.230386</td>\n",
       "      <td>0.337893</td>\n",
       "      <td>0.331528</td>\n",
       "      <td>0.451841</td>\n",
       "      <td>0.001656</td>\n",
       "      <td>0.001190</td>\n",
       "      <td>0.001391</td>\n",
       "      <td>0.002025</td>\n",
       "      <td>0.002493</td>\n",
       "      <td>0.36350</td>\n",
       "      <td>0.51657</td>\n",
       "      <td>0.41154</td>\n",
       "      <td>0.61085</td>\n",
       "      <td>0.55166</td>\n",
       "    </tr>\n",
       "    <tr>\n",
       "      <th>...</th>\n",
       "      <td>...</td>\n",
       "      <td>...</td>\n",
       "      <td>...</td>\n",
       "      <td>...</td>\n",
       "      <td>...</td>\n",
       "      <td>...</td>\n",
       "      <td>...</td>\n",
       "      <td>...</td>\n",
       "      <td>...</td>\n",
       "      <td>...</td>\n",
       "      <td>...</td>\n",
       "      <td>...</td>\n",
       "      <td>...</td>\n",
       "      <td>...</td>\n",
       "      <td>...</td>\n",
       "      <td>...</td>\n",
       "      <td>...</td>\n",
       "    </tr>\n",
       "    <tr>\n",
       "      <th>76</th>\n",
       "      <td>25-2</td>\n",
       "      <td>2458772.319</td>\n",
       "      <td>0.448605</td>\n",
       "      <td>0.228226</td>\n",
       "      <td>0.346733</td>\n",
       "      <td>0.314918</td>\n",
       "      <td>0.464618</td>\n",
       "      <td>0.002445</td>\n",
       "      <td>0.000960</td>\n",
       "      <td>0.001108</td>\n",
       "      <td>0.002206</td>\n",
       "      <td>0.002236</td>\n",
       "      <td>0.54492</td>\n",
       "      <td>0.42065</td>\n",
       "      <td>0.31969</td>\n",
       "      <td>0.70064</td>\n",
       "      <td>0.48121</td>\n",
       "    </tr>\n",
       "    <tr>\n",
       "      <th>77</th>\n",
       "      <td>25-5</td>\n",
       "      <td>2458775.310</td>\n",
       "      <td>0.464657</td>\n",
       "      <td>0.229137</td>\n",
       "      <td>0.344663</td>\n",
       "      <td>0.318101</td>\n",
       "      <td>0.461843</td>\n",
       "      <td>0.001035</td>\n",
       "      <td>0.001213</td>\n",
       "      <td>0.001444</td>\n",
       "      <td>0.001581</td>\n",
       "      <td>0.002703</td>\n",
       "      <td>0.22272</td>\n",
       "      <td>0.52943</td>\n",
       "      <td>0.41903</td>\n",
       "      <td>0.49709</td>\n",
       "      <td>0.58524</td>\n",
       "    </tr>\n",
       "    <tr>\n",
       "      <th>78</th>\n",
       "      <td>25-6</td>\n",
       "      <td>2458776.310</td>\n",
       "      <td>0.468700</td>\n",
       "      <td>0.231277</td>\n",
       "      <td>0.346630</td>\n",
       "      <td>0.313944</td>\n",
       "      <td>0.461648</td>\n",
       "      <td>0.001667</td>\n",
       "      <td>0.000976</td>\n",
       "      <td>0.001777</td>\n",
       "      <td>0.003936</td>\n",
       "      <td>0.003895</td>\n",
       "      <td>0.35564</td>\n",
       "      <td>0.42185</td>\n",
       "      <td>0.51270</td>\n",
       "      <td>1.25377</td>\n",
       "      <td>0.84377</td>\n",
       "    </tr>\n",
       "    <tr>\n",
       "      <th>79</th>\n",
       "      <td>26-3</td>\n",
       "      <td>2458781.313</td>\n",
       "      <td>0.470187</td>\n",
       "      <td>0.229390</td>\n",
       "      <td>0.346115</td>\n",
       "      <td>0.312454</td>\n",
       "      <td>0.467016</td>\n",
       "      <td>0.005155</td>\n",
       "      <td>0.004178</td>\n",
       "      <td>0.005852</td>\n",
       "      <td>0.011035</td>\n",
       "      <td>0.011951</td>\n",
       "      <td>1.09639</td>\n",
       "      <td>1.82156</td>\n",
       "      <td>1.69085</td>\n",
       "      <td>3.53160</td>\n",
       "      <td>2.55910</td>\n",
       "    </tr>\n",
       "    <tr>\n",
       "      <th>80</th>\n",
       "      <td>26-4</td>\n",
       "      <td>2458784.442</td>\n",
       "      <td>0.490929</td>\n",
       "      <td>0.226734</td>\n",
       "      <td>0.360520</td>\n",
       "      <td>0.296867</td>\n",
       "      <td>0.473994</td>\n",
       "      <td>0.013756</td>\n",
       "      <td>0.010520</td>\n",
       "      <td>0.012798</td>\n",
       "      <td>0.016535</td>\n",
       "      <td>0.012253</td>\n",
       "      <td>2.80195</td>\n",
       "      <td>4.63980</td>\n",
       "      <td>3.54980</td>\n",
       "      <td>5.56973</td>\n",
       "      <td>2.58512</td>\n",
       "    </tr>\n",
       "  </tbody>\n",
       "</table>\n",
       "<p>81 rows × 17 columns</p>\n",
       "</div>"
      ],
      "text/plain": [
       "   Cadence (Burst)       JD_UTC  av_rel_flux T1  av_rel_flux C2  \\\n",
       "0              9-1  2458634.522        0.456628        0.233339   \n",
       "1              1-2  2458577.078        0.450170        0.228931   \n",
       "2              1-3  2458578.134        0.450683        0.228680   \n",
       "3              1-4  2458579.073        0.443331        0.227401   \n",
       "4              1-5  2458580.129        0.455698        0.230386   \n",
       "..             ...          ...             ...             ...   \n",
       "76            25-2  2458772.319        0.448605        0.228226   \n",
       "77            25-5  2458775.310        0.464657        0.229137   \n",
       "78            25-6  2458776.310        0.468700        0.231277   \n",
       "79            26-3  2458781.313        0.470187        0.229390   \n",
       "80            26-4  2458784.442        0.490929        0.226734   \n",
       "\n",
       "    av_rel_flux C3  av_rel_flux C4  av_rel_flux C5    std_T1    std_C2  \\\n",
       "0         0.339823        0.326439        0.451546  0.002471  0.000887   \n",
       "1         0.339605        0.335194        0.447539  0.002006  0.001622   \n",
       "2         0.340786        0.331198        0.451231  0.003543  0.001859   \n",
       "3         0.341038        0.337236        0.445611  0.002052  0.001855   \n",
       "4         0.337893        0.331528        0.451841  0.001656  0.001190   \n",
       "..             ...             ...             ...       ...       ...   \n",
       "76        0.346733        0.314918        0.464618  0.002445  0.000960   \n",
       "77        0.344663        0.318101        0.461843  0.001035  0.001213   \n",
       "78        0.346630        0.313944        0.461648  0.001667  0.000976   \n",
       "79        0.346115        0.312454        0.467016  0.005155  0.004178   \n",
       "80        0.360520        0.296867        0.473994  0.013756  0.010520   \n",
       "\n",
       "      std_C3    std_C4    std_C5   CoV T1   CoV C2   CoV C3   CoV C4   CoV C5  \n",
       "0   0.002142  0.002114  0.002726  0.54115  0.37997  0.63035  0.64751  0.60380  \n",
       "1   0.002960  0.003196  0.003580  0.44550  0.70851  0.87161  0.95335  0.80001  \n",
       "2   0.002193  0.002973  0.004438  0.78622  0.81300  0.64345  0.89761  0.98360  \n",
       "3   0.004357  0.002738  0.004142  0.46282  0.81586  1.27755  0.81188  0.92961  \n",
       "4   0.001391  0.002025  0.002493  0.36350  0.51657  0.41154  0.61085  0.55166  \n",
       "..       ...       ...       ...      ...      ...      ...      ...      ...  \n",
       "76  0.001108  0.002206  0.002236  0.54492  0.42065  0.31969  0.70064  0.48121  \n",
       "77  0.001444  0.001581  0.002703  0.22272  0.52943  0.41903  0.49709  0.58524  \n",
       "78  0.001777  0.003936  0.003895  0.35564  0.42185  0.51270  1.25377  0.84377  \n",
       "79  0.005852  0.011035  0.011951  1.09639  1.82156  1.69085  3.53160  2.55910  \n",
       "80  0.012798  0.016535  0.012253  2.80195  4.63980  3.54980  5.56973  2.58512  \n",
       "\n",
       "[81 rows x 17 columns]"
      ]
     },
     "execution_count": 3,
     "metadata": {},
     "output_type": "execute_result"
    }
   ],
   "source": [
    "df = pd.read_csv('Master_Data.csv')\n",
    "df"
   ]
  },
  {
   "cell_type": "code",
   "execution_count": 4,
   "id": "fc33b84c",
   "metadata": {},
   "outputs": [
    {
     "data": {
      "text/plain": [
       "Text(0, 0.5, 'Flux')"
      ]
     },
     "execution_count": 4,
     "metadata": {},
     "output_type": "execute_result"
    },
    {
     "data": {
      "image/png": "[encoded data removed]",
      "text/plain": [
       "<Figure size 640x480 with 1 Axes>"
      ]
     },
     "metadata": {},
     "output_type": "display_data"
    }
   ],
   "source": [
    "time = df['JD_UTC']\n",
    "flux = df['av_rel_flux T1']\n",
    "error = df['std_T1']\n",
    "\n",
    "plt.scatter(time, flux)\n",
    "#plt.xlim(2.45e6,2.46e6)\n",
    "plt.xlabel('Time')\n",
    "plt.ylabel('Flux')"
   ]
  },
  {
   "cell_type": "code",
   "execution_count": 5,
   "id": "db5a9ec9",
   "metadata": {},
   "outputs": [
    {
     "data": {
      "text/plain": [
       "Text(0, 0.5, 'Flux')"
      ]
     },
     "execution_count": 5,
     "metadata": {},
     "output_type": "execute_result"
    },
    {
     "data": {
      "image/png": "[encoded data removed]",
      "text/plain": [
       "<Figure size 640x480 with 1 Axes>"
      ]
     },
     "metadata": {},
     "output_type": "display_data"
    }
   ],
   "source": [
    "# CLEANED DATA SET\n",
    "\n",
    "dropped = df.drop([30,63]) # use this one\n",
    "dropped.where(df['JD_UTC'] < 2.4e6).dropna()\n",
    "\n",
    "d_time = dropped['JD_UTC'] # time\n",
    "d_flux = dropped['av_rel_flux T1'] # signal\n",
    "d_error = dropped['std_T1']\n",
    "plt.scatter(d_time, d_flux)\n",
    "plt.xlabel('Time')\n",
    "plt.ylabel('Flux')\n"
   ]
  },
  {
   "cell_type": "code",
   "execution_count": 6,
   "id": "e922a93b",
   "metadata": {},
   "outputs": [],
   "source": [
    "# ROBERT QUIMBY VIDEO - MANUAL METHOD\n",
    "# frequency is 1/period -> plot period instead of frequency\n",
    "\n",
    "\n",
    "t_man = dropped['JD_UTC'] \n",
    "flux_man = dropped['av_rel_flux T1'] - np.mean(dropped['av_rel_flux T1'])\n",
    "error_man = dropped['std_T1']"
   ]
  },
  {
   "cell_type": "code",
   "execution_count": 7,
   "id": "f887030e",
   "metadata": {},
   "outputs": [
    {
     "data": {
      "image/png": "[encoded data removed]",
      "text/plain": [
       "<Figure size 640x480 with 1 Axes>"
      ]
     },
     "metadata": {},
     "output_type": "display_data"
    }
   ],
   "source": [
    "def get_model(params, freq, times):\n",
    "    A, phi = params\n",
    "    return A * np.cos(2 * np.pi * freq * times + phi)\n",
    "\n",
    "def get_chisq(params, times, freq, values):\n",
    "    model = get_model(params, freq, times)\n",
    "    return np.sum((values - model)**2)\n",
    "    \n",
    "freqs = np.linspace(1, 8, 1000)\n",
    "Y = np.matrix([[value] for value in flux_man])\n",
    "A2, chisq = [], []\n",
    "\n",
    "for freq in freqs:\n",
    "    thetas = 2 * np.pi * freq * t_man\n",
    "    X = np.matrix([[np.cos(theta), np.sin(theta)]for theta in thetas])\n",
    "    p = (X.T * X).I * (X.T * Y)\n",
    "    B, C = p.A1\n",
    "    A = B/np.abs(B) * np.hypot(B,C)\n",
    "    A2.append(A**2)\n",
    "    phi = np.arctan(-C/B)\n",
    "    chisq.append(get_chisq((A, phi), t_man, freq, flux_man))\n",
    "chisq = np.array(chisq)\n",
    "A2 = np.array(A2)\n",
    "chisq0 = np.sum((flux_man - np.mean(flux_man))**2)\n",
    "P = (chisq0 - chisq)/chisq0\n",
    "\n",
    "plt.plot(freqs, P)\n",
    "plt.xlabel(\"Frequency\")\n",
    "plt.ylabel(\"power/frequency\")\n",
    "plt.grid();"
   ]
  },
  {
   "cell_type": "code",
   "execution_count": 8,
   "id": "9944a28f",
   "metadata": {},
   "outputs": [
    {
     "ename": "NameError",
     "evalue": "name 'u' is not defined",
     "output_type": "error",
     "traceback": [
      "\u001b[0;31m---------------------------------------------------------------------------\u001b[0m",
      "\u001b[0;31mNameError\u001b[0m                                 Traceback (most recent call last)",
      "Cell \u001b[0;32mIn[8], line 3\u001b[0m\n\u001b[1;32m      1\u001b[0m \u001b[38;5;66;03m# ROBERT QUIMBY VIDEO - ASTROPY METHOD\u001b[39;00m\n\u001b[0;32m----> 3\u001b[0m t_astro \u001b[38;5;241m=\u001b[39m dropped[\u001b[38;5;124m'\u001b[39m\u001b[38;5;124mJD_UTC\u001b[39m\u001b[38;5;124m'\u001b[39m] \u001b[38;5;241m*\u001b[39m \u001b[43mu\u001b[49m\u001b[38;5;241m.\u001b[39mday\n\u001b[1;32m      4\u001b[0m mags \u001b[38;5;241m=\u001b[39m dropped[\u001b[38;5;124m'\u001b[39m\u001b[38;5;124mav_rel_flux T1\u001b[39m\u001b[38;5;124m'\u001b[39m] \u001b[38;5;241m-\u001b[39m np\u001b[38;5;241m.\u001b[39mmean(dropped[\u001b[38;5;124m'\u001b[39m\u001b[38;5;124mav_rel_flux T1\u001b[39m\u001b[38;5;124m'\u001b[39m]) \u001b[38;5;241m*\u001b[39m u\u001b[38;5;241m.\u001b[39mmag\n\u001b[1;32m      5\u001b[0m ls \u001b[38;5;241m=\u001b[39m LombScargle(t_astro, mags, d_error)\n",
      "\u001b[0;31mNameError\u001b[0m: name 'u' is not defined"
     ]
    }
   ],
   "source": [
    "# ROBERT QUIMBY VIDEO - ASTROPY METHOD\n",
    "\n",
    "t_astro = dropped['JD_UTC'] * u.day\n",
    "mags = dropped['av_rel_flux T1'] - np.mean(dropped['av_rel_flux T1']) * u.mag\n",
    "ls = LombScargle(t_astro, mags, d_error)\n",
    "freqs = np.linspace(1, 8, 1000)\n",
    "power = ls.power(freqs)\n",
    "\n",
    "plt.plot(freqs, power)\n",
    "plt.xlabel(\"Frequency\")\n",
    "plt.ylabel(\"Power\")\n",
    "plt.grid();"
   ]
  },
  {
   "cell_type": "code",
   "execution_count": null,
   "id": "77a13fbe",
   "metadata": {},
   "outputs": [],
   "source": [
    "max_power = power[power == max(power)]\n",
    "max_power_index = np.where(power == max_power)[0]\n",
    "best_fit_period = freqs[max_power_index]\n",
    "print(best_fit_period)"
   ]
  },
  {
   "cell_type": "code",
   "execution_count": null,
   "id": "726fe72e",
   "metadata": {},
   "outputs": [],
   "source": [
    "ls.false_alarm_probability(power.max())"
   ]
  },
  {
   "cell_type": "code",
   "execution_count": null,
   "id": "e09938b3",
   "metadata": {},
   "outputs": [],
   "source": [
    "ls.model_parameters(5.601)"
   ]
  },
  {
   "cell_type": "code",
   "execution_count": null,
   "id": "ced378e1",
   "metadata": {},
   "outputs": [],
   "source": [
    "ls.model(t_astro, 5.601)"
   ]
  },
  {
   "cell_type": "code",
   "execution_count": null,
   "id": "71bbf266",
   "metadata": {},
   "outputs": [],
   "source": [
    "ls, power = LombScargle(t_astro, mags, d_error).autopower()"
   ]
  },
  {
   "cell_type": "code",
   "execution_count": null,
   "id": "b115c9e1",
   "metadata": {},
   "outputs": [],
   "source": [
    "plt.figure(figsize = (12, 6))\n",
    "\n",
    "t_end = 8\n",
    "\n",
    "plt.xlim(1, t_end)\n",
    "plt.ylim(0, 0.5)\n",
    "plt.plot(1/ls, power)\n",
    "plt.xticks(np.arange(1, t_end, 0.2))\n",
    "\n",
    "plt.xlabel(\"Period (Days)\")\n",
    "plt.ylabel(\"Lomb Scargle Power\")\n",
    "plt.grid()"
   ]
  },
  {
   "cell_type": "code",
   "execution_count": null,
   "id": "780910b2",
   "metadata": {},
   "outputs": [],
   "source": [
    "period = 1/ls"
   ]
  },
  {
   "cell_type": "code",
   "execution_count": null,
   "id": "79153202",
   "metadata": {},
   "outputs": [],
   "source": [
    "\n",
    "\n",
    "# time is in julian date, period is in days"
   ]
  },
  {
   "cell_type": "code",
   "execution_count": null,
   "id": "5f51140c-f631-41e3-b093-87d6b7c7ee2f",
   "metadata": {},
   "outputs": [],
   "source": [
    "plt.figure()\n",
    "plt.scatter(times, d_flux)"
   ]
  },
  {
   "cell_type": "code",
   "execution_count": null,
   "id": "e33f6fd2-bcd9-4510-978c-87ea2e4025c1",
   "metadata": {},
   "outputs": [],
   "source": [
    "times = np.array(dropped[\"JD_UTC\"])\n",
    "\n",
    "decimal_years = Time(times, format = \"jd\")\n",
    "decimal_years.format = \"ymdhms\"\n",
    "\n",
    "decimal_years.to_value(\"ymdhms\")\n",
    "\n",
    "array = np.array([])\n",
    "for i in decimal_years:\n",
    "    array = np.append(array, len(array))\n",
    "\n",
    "\n"
   ]
  },
  {
   "cell_type": "code",
   "execution_count": 13,
   "id": "1b70163d-f2c2-4bc1-9d96-be5549dc240e",
   "metadata": {},
   "outputs": [
    {
     "data": {
      "text/plain": [
       "<matplotlib.collections.PathCollection at 0x16a131790>"
      ]
     },
     "execution_count": 13,
     "metadata": {},
     "output_type": "execute_result"
    },
    {
     "data": {
      "image/png": "[encoded data removed]",
      "text/plain": [
       "<Figure size 640x480 with 1 Axes>"
      ]
     },
     "metadata": {},
     "output_type": "display_data"
    }
   ],
   "source": [
    "phase_folded_time = d_time % 5.598\n",
    "# https://astronomy.stackexchange.com/questions/49579/how-do-i-phase-fold-the-light-curve-for-a-variable-star\n",
    "# phase folded time is just t % P\n",
    "\n",
    "\n",
    "plt.scatter(phase_folded_time, d_flux)"
   ]
  },
  {
   "cell_type": "code",
   "execution_count": 56,
   "id": "7a90e13b-c005-4aeb-b365-3442d3188d64",
   "metadata": {},
   "outputs": [],
   "source": [
    "import scipy.optimize as fit\n",
    "\n",
    "# https://stackoverflow.com/questions/16716302/how-do-i-fit-a-sine-curve-to-my-data-with-pylab-and-numpy\n",
    "\n",
    "def sine(t, A, w, p, c):  \n",
    "    return A * numpy.sin(w*t + p) + c\n",
    "# A: amplitude, w: frequency, p: phase shift, d: vertical offset\n",
    "\n",
    "p0 = [.01, .36, .5, .45]"
   ]
  },
  {
   "cell_type": "code",
   "execution_count": 63,
   "id": "ec75ede4",
   "metadata": {},
   "outputs": [],
   "source": [
    "par, cov = fit.curve_fit(sine, phase_folded_time, d_flux, p0)"
   ]
  },
  {
   "cell_type": "code",
   "execution_count": 64,
   "id": "fed4ca8c",
   "metadata": {},
   "outputs": [
    {
     "data": {
      "text/plain": [
       "array([ 2.04304831e+01,  6.03536730e-03,  1.56754665e+00, -1.99672828e+01])"
      ]
     },
     "execution_count": 64,
     "metadata": {},
     "output_type": "execute_result"
    }
   ],
   "source": [
    "par"
   ]
  },
  {
   "cell_type": "code",
   "execution_count": 65,
   "id": "3e52d974",
   "metadata": {},
   "outputs": [
    {
     "data": {
      "text/plain": [
       "array([[ 9.24184672e+09, -1.36522531e+06,  7.35438787e+05,\n",
       "        -9.24184673e+09],\n",
       "       [-1.36522531e+06,  2.01674016e+02, -1.08640693e+02,\n",
       "         1.36522531e+06],\n",
       "       [ 7.35438787e+05, -1.08640693e+02,  5.85246305e+01,\n",
       "        -7.35438788e+05],\n",
       "       [-9.24184673e+09,  1.36522531e+06, -7.35438788e+05,\n",
       "         9.24184674e+09]])"
      ]
     },
     "execution_count": 65,
     "metadata": {},
     "output_type": "execute_result"
    }
   ],
   "source": [
    "cov"
   ]
  },
  {
   "cell_type": "code",
   "execution_count": 67,
   "id": "a2ac4a84",
   "metadata": {},
   "outputs": [
    {
     "data": {
      "text/plain": [
       "[<matplotlib.lines.Line2D at 0x177e1cc50>]"
      ]
     },
     "execution_count": 67,
     "metadata": {},
     "output_type": "execute_result"
    },
    {
     "data": {
      "image/png": "[encoded data removed]",
      "text/plain": [
       "<Figure size 640x480 with 1 Axes>"
      ]
     },
     "metadata": {},
     "output_type": "display_data"
    }
   ],
   "source": [
    "plt.figure()\n",
    "plt.scatter(phase_folded_time, d_flux)\n",
    "plt.plot(phase_folded_time, sine(phase_folded_time, par[0], par[1], par[2], par[3]))"
   ]
  },
  {
   "cell_type": "code",
   "execution_count": null,
   "id": "5f598a99",
   "metadata": {},
   "outputs": [],
   "source": []
  }
 ],
 "metadata": {
  "kernelspec": {
   "display_name": "Python 3 (ipykernel)",
   "language": "python",
   "name": "python3"
  },
  "language_info": {
   "codemirror_mode": {
    "name": "ipython",
    "version": 3
   },
   "file_extension": ".py",
   "mimetype": "text/x-python",
   "name": "python",
   "nbconvert_exporter": "python",
   "pygments_lexer": "ipython3",
   "version": "3.11.2"
  }
 },
 "nbformat": 4,
 "nbformat_minor": 5
}

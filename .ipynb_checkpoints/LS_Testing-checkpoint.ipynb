{
 "cells": [
  {
   "cell_type": "code",
   "execution_count": 2,
   "id": "fc1cb925",
   "metadata": {},
   "outputs": [],
   "source": [
    "import numpy as np\n",
    "from astropy.timeseries import LombScargle\n",
    "import matplotlib.pyplot as plt\n",
    "import pandas as pd"
   ]
  },
  {
   "cell_type": "code",
   "execution_count": 3,
   "id": "cdac1474",
   "metadata": {},
   "outputs": [
    {
     "data": {
      "text/plain": [
       "[<matplotlib.lines.Line2D at 0x15073f790>]"
      ]
     },
     "execution_count": 3,
     "metadata": {},
     "output_type": "execute_result"
    },
    {
     "data": {
      "image/png": "[encoded data removed]",
      "text/plain": [
       "<Figure size 640x480 with 1 Axes>"
      ]
     },
     "metadata": {},
     "output_type": "display_data"
    }
   ],
   "source": [
    "rand = np.random.default_rng(42)\n",
    "t = 100 * rand.random(100)\n",
    "y = np.sin(2 * np.pi * t) + 0.1 * rand.standard_normal(100)\n",
    "\n",
    "frequency, power = LombScargle(t, y).autopower()\n",
    "plt.plot(frequency, power)"
   ]
  },
  {
   "cell_type": "code",
   "execution_count": 6,
   "id": "1ce18fbe",
   "metadata": {},
   "outputs": [],
   "source": [
    "df = pd.read_csv('Master_Data.csv')"
   ]
  },
  {
   "cell_type": "code",
   "execution_count": 7,
   "id": "00d8b2b4",
   "metadata": {},
   "outputs": [
    {
     "data": {
      "text/html": [
       "<div>\n",
       "<style scoped>\n",
       "    .dataframe tbody tr th:only-of-type {\n",
       "        vertical-align: middle;\n",
       "    }\n",
       "\n",
       "    .dataframe tbody tr th {\n",
       "        vertical-align: top;\n",
       "    }\n",
       "\n",
       "    .dataframe thead th {\n",
       "        text-align: right;\n",
       "    }\n",
       "</style>\n",
       "<table border=\"1\" class=\"dataframe\">\n",
       "  <thead>\n",
       "    <tr style=\"text-align: right;\">\n",
       "      <th></th>\n",
       "      <th>Cadence (Burst)</th>\n",
       "      <th>JD_UTC</th>\n",
       "      <th>av_rel_flux T1</th>\n",
       "      <th>av_rel_flux C2</th>\n",
       "      <th>av_rel_flux C3</th>\n",
       "      <th>av_rel_flux C4</th>\n",
       "      <th>av_rel_flux C5</th>\n",
       "      <th>std_T1</th>\n",
       "      <th>std_C2</th>\n",
       "      <th>std_C3</th>\n",
       "      <th>std_C4</th>\n",
       "      <th>std_C5</th>\n",
       "      <th>CoV T1</th>\n",
       "      <th>CoV C2</th>\n",
       "      <th>CoV C3</th>\n",
       "      <th>CoV C4</th>\n",
       "      <th>CoV C5</th>\n",
       "    </tr>\n",
       "  </thead>\n",
       "  <tbody>\n",
       "    <tr>\n",
       "      <th>0</th>\n",
       "      <td>9-1</td>\n",
       "      <td>2458634.522</td>\n",
       "      <td>0.456628</td>\n",
       "      <td>0.233339</td>\n",
       "      <td>0.339823</td>\n",
       "      <td>0.326439</td>\n",
       "      <td>0.451546</td>\n",
       "      <td>0.002471</td>\n",
       "      <td>0.000887</td>\n",
       "      <td>0.002142</td>\n",
       "      <td>0.002114</td>\n",
       "      <td>0.002726</td>\n",
       "      <td>0.54115</td>\n",
       "      <td>0.37997</td>\n",
       "      <td>0.63035</td>\n",
       "      <td>0.64751</td>\n",
       "      <td>0.60380</td>\n",
       "    </tr>\n",
       "    <tr>\n",
       "      <th>1</th>\n",
       "      <td>1-2</td>\n",
       "      <td>2458577.078</td>\n",
       "      <td>0.450170</td>\n",
       "      <td>0.228931</td>\n",
       "      <td>0.339605</td>\n",
       "      <td>0.335194</td>\n",
       "      <td>0.447539</td>\n",
       "      <td>0.002006</td>\n",
       "      <td>0.001622</td>\n",
       "      <td>0.002960</td>\n",
       "      <td>0.003196</td>\n",
       "      <td>0.003580</td>\n",
       "      <td>0.44550</td>\n",
       "      <td>0.70851</td>\n",
       "      <td>0.87161</td>\n",
       "      <td>0.95335</td>\n",
       "      <td>0.80001</td>\n",
       "    </tr>\n",
       "    <tr>\n",
       "      <th>2</th>\n",
       "      <td>1-3</td>\n",
       "      <td>2458578.134</td>\n",
       "      <td>0.450683</td>\n",
       "      <td>0.228680</td>\n",
       "      <td>0.340786</td>\n",
       "      <td>0.331198</td>\n",
       "      <td>0.451231</td>\n",
       "      <td>0.003543</td>\n",
       "      <td>0.001859</td>\n",
       "      <td>0.002193</td>\n",
       "      <td>0.002973</td>\n",
       "      <td>0.004438</td>\n",
       "      <td>0.78622</td>\n",
       "      <td>0.81300</td>\n",
       "      <td>0.64345</td>\n",
       "      <td>0.89761</td>\n",
       "      <td>0.98360</td>\n",
       "    </tr>\n",
       "    <tr>\n",
       "      <th>3</th>\n",
       "      <td>1-4</td>\n",
       "      <td>2458579.073</td>\n",
       "      <td>0.443331</td>\n",
       "      <td>0.227401</td>\n",
       "      <td>0.341038</td>\n",
       "      <td>0.337236</td>\n",
       "      <td>0.445611</td>\n",
       "      <td>0.002052</td>\n",
       "      <td>0.001855</td>\n",
       "      <td>0.004357</td>\n",
       "      <td>0.002738</td>\n",
       "      <td>0.004142</td>\n",
       "      <td>0.46282</td>\n",
       "      <td>0.81586</td>\n",
       "      <td>1.27755</td>\n",
       "      <td>0.81188</td>\n",
       "      <td>0.92961</td>\n",
       "    </tr>\n",
       "    <tr>\n",
       "      <th>4</th>\n",
       "      <td>1-5</td>\n",
       "      <td>2458580.129</td>\n",
       "      <td>0.455698</td>\n",
       "      <td>0.230386</td>\n",
       "      <td>0.337893</td>\n",
       "      <td>0.331528</td>\n",
       "      <td>0.451841</td>\n",
       "      <td>0.001656</td>\n",
       "      <td>0.001190</td>\n",
       "      <td>0.001391</td>\n",
       "      <td>0.002025</td>\n",
       "      <td>0.002493</td>\n",
       "      <td>0.36350</td>\n",
       "      <td>0.51657</td>\n",
       "      <td>0.41154</td>\n",
       "      <td>0.61085</td>\n",
       "      <td>0.55166</td>\n",
       "    </tr>\n",
       "    <tr>\n",
       "      <th>...</th>\n",
       "      <td>...</td>\n",
       "      <td>...</td>\n",
       "      <td>...</td>\n",
       "      <td>...</td>\n",
       "      <td>...</td>\n",
       "      <td>...</td>\n",
       "      <td>...</td>\n",
       "      <td>...</td>\n",
       "      <td>...</td>\n",
       "      <td>...</td>\n",
       "      <td>...</td>\n",
       "      <td>...</td>\n",
       "      <td>...</td>\n",
       "      <td>...</td>\n",
       "      <td>...</td>\n",
       "      <td>...</td>\n",
       "      <td>...</td>\n",
       "    </tr>\n",
       "    <tr>\n",
       "      <th>76</th>\n",
       "      <td>25-2</td>\n",
       "      <td>2458772.319</td>\n",
       "      <td>0.448605</td>\n",
       "      <td>0.228226</td>\n",
       "      <td>0.346733</td>\n",
       "      <td>0.314918</td>\n",
       "      <td>0.464618</td>\n",
       "      <td>0.002445</td>\n",
       "      <td>0.000960</td>\n",
       "      <td>0.001108</td>\n",
       "      <td>0.002206</td>\n",
       "      <td>0.002236</td>\n",
       "      <td>0.54492</td>\n",
       "      <td>0.42065</td>\n",
       "      <td>0.31969</td>\n",
       "      <td>0.70064</td>\n",
       "      <td>0.48121</td>\n",
       "    </tr>\n",
       "    <tr>\n",
       "      <th>77</th>\n",
       "      <td>25-5</td>\n",
       "      <td>2458775.310</td>\n",
       "      <td>0.464657</td>\n",
       "      <td>0.229137</td>\n",
       "      <td>0.344663</td>\n",
       "      <td>0.318101</td>\n",
       "      <td>0.461843</td>\n",
       "      <td>0.001035</td>\n",
       "      <td>0.001213</td>\n",
       "      <td>0.001444</td>\n",
       "      <td>0.001581</td>\n",
       "      <td>0.002703</td>\n",
       "      <td>0.22272</td>\n",
       "      <td>0.52943</td>\n",
       "      <td>0.41903</td>\n",
       "      <td>0.49709</td>\n",
       "      <td>0.58524</td>\n",
       "    </tr>\n",
       "    <tr>\n",
       "      <th>78</th>\n",
       "      <td>25-6</td>\n",
       "      <td>2458776.310</td>\n",
       "      <td>0.468700</td>\n",
       "      <td>0.231277</td>\n",
       "      <td>0.346630</td>\n",
       "      <td>0.313944</td>\n",
       "      <td>0.461648</td>\n",
       "      <td>0.001667</td>\n",
       "      <td>0.000976</td>\n",
       "      <td>0.001777</td>\n",
       "      <td>0.003936</td>\n",
       "      <td>0.003895</td>\n",
       "      <td>0.35564</td>\n",
       "      <td>0.42185</td>\n",
       "      <td>0.51270</td>\n",
       "      <td>1.25377</td>\n",
       "      <td>0.84377</td>\n",
       "    </tr>\n",
       "    <tr>\n",
       "      <th>79</th>\n",
       "      <td>26-3</td>\n",
       "      <td>2458781.313</td>\n",
       "      <td>0.470187</td>\n",
       "      <td>0.229390</td>\n",
       "      <td>0.346115</td>\n",
       "      <td>0.312454</td>\n",
       "      <td>0.467016</td>\n",
       "      <td>0.005155</td>\n",
       "      <td>0.004178</td>\n",
       "      <td>0.005852</td>\n",
       "      <td>0.011035</td>\n",
       "      <td>0.011951</td>\n",
       "      <td>1.09639</td>\n",
       "      <td>1.82156</td>\n",
       "      <td>1.69085</td>\n",
       "      <td>3.53160</td>\n",
       "      <td>2.55910</td>\n",
       "    </tr>\n",
       "    <tr>\n",
       "      <th>80</th>\n",
       "      <td>26-4</td>\n",
       "      <td>2458784.442</td>\n",
       "      <td>0.490929</td>\n",
       "      <td>0.226734</td>\n",
       "      <td>0.360520</td>\n",
       "      <td>0.296867</td>\n",
       "      <td>0.473994</td>\n",
       "      <td>0.013756</td>\n",
       "      <td>0.010520</td>\n",
       "      <td>0.012798</td>\n",
       "      <td>0.016535</td>\n",
       "      <td>0.012253</td>\n",
       "      <td>2.80195</td>\n",
       "      <td>4.63980</td>\n",
       "      <td>3.54980</td>\n",
       "      <td>5.56973</td>\n",
       "      <td>2.58512</td>\n",
       "    </tr>\n",
       "  </tbody>\n",
       "</table>\n",
       "<p>81 rows × 17 columns</p>\n",
       "</div>"
      ],
      "text/plain": [
       "   Cadence (Burst)       JD_UTC  av_rel_flux T1  av_rel_flux C2  \\\n",
       "0              9-1  2458634.522        0.456628        0.233339   \n",
       "1              1-2  2458577.078        0.450170        0.228931   \n",
       "2              1-3  2458578.134        0.450683        0.228680   \n",
       "3              1-4  2458579.073        0.443331        0.227401   \n",
       "4              1-5  2458580.129        0.455698        0.230386   \n",
       "..             ...          ...             ...             ...   \n",
       "76            25-2  2458772.319        0.448605        0.228226   \n",
       "77            25-5  2458775.310        0.464657        0.229137   \n",
       "78            25-6  2458776.310        0.468700        0.231277   \n",
       "79            26-3  2458781.313        0.470187        0.229390   \n",
       "80            26-4  2458784.442        0.490929        0.226734   \n",
       "\n",
       "    av_rel_flux C3  av_rel_flux C4  av_rel_flux C5    std_T1    std_C2  \\\n",
       "0         0.339823        0.326439        0.451546  0.002471  0.000887   \n",
       "1         0.339605        0.335194        0.447539  0.002006  0.001622   \n",
       "2         0.340786        0.331198        0.451231  0.003543  0.001859   \n",
       "3         0.341038        0.337236        0.445611  0.002052  0.001855   \n",
       "4         0.337893        0.331528        0.451841  0.001656  0.001190   \n",
       "..             ...             ...             ...       ...       ...   \n",
       "76        0.346733        0.314918        0.464618  0.002445  0.000960   \n",
       "77        0.344663        0.318101        0.461843  0.001035  0.001213   \n",
       "78        0.346630        0.313944        0.461648  0.001667  0.000976   \n",
       "79        0.346115        0.312454        0.467016  0.005155  0.004178   \n",
       "80        0.360520        0.296867        0.473994  0.013756  0.010520   \n",
       "\n",
       "      std_C3    std_C4    std_C5   CoV T1   CoV C2   CoV C3   CoV C4   CoV C5  \n",
       "0   0.002142  0.002114  0.002726  0.54115  0.37997  0.63035  0.64751  0.60380  \n",
       "1   0.002960  0.003196  0.003580  0.44550  0.70851  0.87161  0.95335  0.80001  \n",
       "2   0.002193  0.002973  0.004438  0.78622  0.81300  0.64345  0.89761  0.98360  \n",
       "3   0.004357  0.002738  0.004142  0.46282  0.81586  1.27755  0.81188  0.92961  \n",
       "4   0.001391  0.002025  0.002493  0.36350  0.51657  0.41154  0.61085  0.55166  \n",
       "..       ...       ...       ...      ...      ...      ...      ...      ...  \n",
       "76  0.001108  0.002206  0.002236  0.54492  0.42065  0.31969  0.70064  0.48121  \n",
       "77  0.001444  0.001581  0.002703  0.22272  0.52943  0.41903  0.49709  0.58524  \n",
       "78  0.001777  0.003936  0.003895  0.35564  0.42185  0.51270  1.25377  0.84377  \n",
       "79  0.005852  0.011035  0.011951  1.09639  1.82156  1.69085  3.53160  2.55910  \n",
       "80  0.012798  0.016535  0.012253  2.80195  4.63980  3.54980  5.56973  2.58512  \n",
       "\n",
       "[81 rows x 17 columns]"
      ]
     },
     "execution_count": 7,
     "metadata": {},
     "output_type": "execute_result"
    }
   ],
   "source": [
    "df"
   ]
  },
  {
   "cell_type": "code",
   "execution_count": 16,
   "id": "9d4eee0a",
   "metadata": {
    "scrolled": true
   },
   "outputs": [
    {
     "data": {
      "text/plain": [
       "[<matplotlib.lines.Line2D at 0x151037b90>]"
      ]
     },
     "execution_count": 16,
     "metadata": {},
     "output_type": "execute_result"
    },
    {
     "data": {
      "image/png": "[encoded data removed]",
      "text/plain": [
       "<Figure size 640x480 with 1 Axes>"
      ]
     },
     "metadata": {},
     "output_type": "display_data"
    }
   ],
   "source": [
    "time = df['JD_UTC']\n",
    "flux = df['av_rel_flux T1']\n",
    "error = df['std_T1']\n",
    "\n",
    "\n",
    "frequency, power = LombScargle(time, flux, dy=error).autopower()\n",
    "max_power = frequency[np.argmax(power)]  \n",
    "plt.plot(frequency, power)"
   ]
  },
  {
   "cell_type": "code",
   "execution_count": 17,
   "id": "59c5aac2",
   "metadata": {},
   "outputs": [
    {
     "name": "stdout",
     "output_type": "stream",
     "text": [
      "2.1540280490381342e-05\n"
     ]
    }
   ],
   "source": [
    "print(max_power)"
   ]
  },
  {
   "cell_type": "code",
   "execution_count": 36,
   "id": "faced38c",
   "metadata": {},
   "outputs": [
    {
     "data": {
      "text/plain": [
       "Text(0, 0.5, 'Flux')"
      ]
     },
     "execution_count": 36,
     "metadata": {},
     "output_type": "execute_result"
    },
    {
     "data": {
      "image/png": "[encoded data removed]",
      "text/plain": [
       "<Figure size 640x480 with 1 Axes>"
      ]
     },
     "metadata": {},
     "output_type": "display_data"
    }
   ],
   "source": [
    "time = df['JD_UTC']\n",
    "flux = df['av_rel_flux T1']\n",
    "error = df['std_T1']\n",
    "plt.scatter(time, flux)\n",
    "#plt.xlim(2.45e6,2.46e6)\n",
    "plt.xlabel('Time')\n",
    "plt.ylabel('Flux')"
   ]
  },
  {
   "cell_type": "code",
   "execution_count": 47,
   "id": "910a8a47",
   "metadata": {},
   "outputs": [
    {
     "data": {
      "text/html": [
       "<div>\n",
       "<style scoped>\n",
       "    .dataframe tbody tr th:only-of-type {\n",
       "        vertical-align: middle;\n",
       "    }\n",
       "\n",
       "    .dataframe tbody tr th {\n",
       "        vertical-align: top;\n",
       "    }\n",
       "\n",
       "    .dataframe thead th {\n",
       "        text-align: right;\n",
       "    }\n",
       "</style>\n",
       "<table border=\"1\" class=\"dataframe\">\n",
       "  <thead>\n",
       "    <tr style=\"text-align: right;\">\n",
       "      <th></th>\n",
       "      <th>Cadence (Burst)</th>\n",
       "      <th>JD_UTC</th>\n",
       "      <th>av_rel_flux T1</th>\n",
       "      <th>av_rel_flux C2</th>\n",
       "      <th>av_rel_flux C3</th>\n",
       "      <th>av_rel_flux C4</th>\n",
       "      <th>av_rel_flux C5</th>\n",
       "      <th>std_T1</th>\n",
       "      <th>std_C2</th>\n",
       "      <th>std_C3</th>\n",
       "      <th>std_C4</th>\n",
       "      <th>std_C5</th>\n",
       "      <th>CoV T1</th>\n",
       "      <th>CoV C2</th>\n",
       "      <th>CoV C3</th>\n",
       "      <th>CoV C4</th>\n",
       "      <th>CoV C5</th>\n",
       "    </tr>\n",
       "  </thead>\n",
       "  <tbody>\n",
       "    <tr>\n",
       "      <th>30</th>\n",
       "      <td>7-4</td>\n",
       "      <td>58629.9954</td>\n",
       "      <td>0.448814</td>\n",
       "      <td>0.230403</td>\n",
       "      <td>0.343181</td>\n",
       "      <td>0.327068</td>\n",
       "      <td>0.450953</td>\n",
       "      <td>0.003656</td>\n",
       "      <td>0.00148</td>\n",
       "      <td>0.002206</td>\n",
       "      <td>0.003403</td>\n",
       "      <td>0.004222</td>\n",
       "      <td>0.81454</td>\n",
       "      <td>0.64242</td>\n",
       "      <td>0.6427</td>\n",
       "      <td>1.04043</td>\n",
       "      <td>0.93616</td>\n",
       "    </tr>\n",
       "  </tbody>\n",
       "</table>\n",
       "</div>"
      ],
      "text/plain": [
       "   Cadence (Burst)      JD_UTC  av_rel_flux T1  av_rel_flux C2  \\\n",
       "30             7-4  58629.9954        0.448814        0.230403   \n",
       "\n",
       "    av_rel_flux C3  av_rel_flux C4  av_rel_flux C5    std_T1   std_C2  \\\n",
       "30        0.343181        0.327068        0.450953  0.003656  0.00148   \n",
       "\n",
       "      std_C3    std_C4    std_C5   CoV T1   CoV C2  CoV C3   CoV C4   CoV C5  \n",
       "30  0.002206  0.003403  0.004222  0.81454  0.64242  0.6427  1.04043  0.93616  "
      ]
     },
     "execution_count": 47,
     "metadata": {},
     "output_type": "execute_result"
    }
   ],
   "source": [
    "df.where(df['JD_UTC'] < 2.4e6).dropna()"
   ]
  },
  {
   "cell_type": "code",
   "execution_count": 55,
   "id": "61bb4d84",
   "metadata": {},
   "outputs": [
    {
     "data": {
      "text/html": [
       "<div>\n",
       "<style scoped>\n",
       "    .dataframe tbody tr th:only-of-type {\n",
       "        vertical-align: middle;\n",
       "    }\n",
       "\n",
       "    .dataframe tbody tr th {\n",
       "        vertical-align: top;\n",
       "    }\n",
       "\n",
       "    .dataframe thead th {\n",
       "        text-align: right;\n",
       "    }\n",
       "</style>\n",
       "<table border=\"1\" class=\"dataframe\">\n",
       "  <thead>\n",
       "    <tr style=\"text-align: right;\">\n",
       "      <th></th>\n",
       "      <th>Cadence (Burst)</th>\n",
       "      <th>JD_UTC</th>\n",
       "      <th>av_rel_flux T1</th>\n",
       "      <th>av_rel_flux C2</th>\n",
       "      <th>av_rel_flux C3</th>\n",
       "      <th>av_rel_flux C4</th>\n",
       "      <th>av_rel_flux C5</th>\n",
       "      <th>std_T1</th>\n",
       "      <th>std_C2</th>\n",
       "      <th>std_C3</th>\n",
       "      <th>std_C4</th>\n",
       "      <th>std_C5</th>\n",
       "      <th>CoV T1</th>\n",
       "      <th>CoV C2</th>\n",
       "      <th>CoV C3</th>\n",
       "      <th>CoV C4</th>\n",
       "      <th>CoV C5</th>\n",
       "    </tr>\n",
       "  </thead>\n",
       "  <tbody>\n",
       "  </tbody>\n",
       "</table>\n",
       "</div>"
      ],
      "text/plain": [
       "Empty DataFrame\n",
       "Columns: [Cadence (Burst), JD_UTC, av_rel_flux T1, av_rel_flux C2, av_rel_flux C3, av_rel_flux C4, av_rel_flux C5, std_T1, std_C2, std_C3, std_C4, std_C5, CoV T1, CoV C2, CoV C3, CoV C4, CoV C5]\n",
       "Index: []"
      ]
     },
     "execution_count": 55,
     "metadata": {},
     "output_type": "execute_result"
    },
    {
     "data": {
      "image/png": "[encoded data removed]",
      "text/plain": [
       "<Figure size 640x480 with 1 Axes>"
      ]
     },
     "metadata": {},
     "output_type": "display_data"
    }
   ],
   "source": [
    "dropped = df.drop([30,63]) # use this one\n",
    "dropped.where(df['JD_UTC'] < 2.4e6).dropna()\n",
    "\n",
    "time = dropped['JD_UTC']\n",
    "flux = dropped['av_rel_flux T1']\n",
    "error = dropped['std_T1']\n",
    "plt.scatter(time, flux)\n",
    "plt.xlabel('Time')\n",
    "plt.ylabel('Flux')\n",
    "\n",
    "dropped.where(df['av_rel_flux T1'] > .575).dropna()"
   ]
  },
  {
   "cell_type": "code",
   "execution_count": null,
   "id": "9325bd7e",
   "metadata": {},
   "outputs": [],
   "source": [
    "#scipy for curve fitting"
   ]
  }
 ],
 "metadata": {
  "kernelspec": {
   "display_name": "Python 3 (ipykernel)",
   "language": "python",
   "name": "python3"
  },
  "language_info": {
   "codemirror_mode": {
    "name": "ipython",
    "version": 3
   },
   "file_extension": ".py",
   "mimetype": "text/x-python",
   "name": "python",
   "nbconvert_exporter": "python",
   "pygments_lexer": "ipython3",
   "version": "3.11.2"
  }
 },
 "nbformat": 4,
 "nbformat_minor": 5
}
